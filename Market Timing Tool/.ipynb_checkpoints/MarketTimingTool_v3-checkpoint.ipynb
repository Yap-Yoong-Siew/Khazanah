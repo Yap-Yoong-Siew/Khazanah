{
 "cells": [
  {
   "cell_type": "markdown",
   "id": "fe9eb34e",
   "metadata": {},
   "source": [
    "### 1. Market Timing Tool\n",
    "- Determine today's regime from Invesco's sector rebalancing\n",
    "\n",
    "### 2. EFM Analysis\n",
    "- Charts, tables, dashboards on sector and stock movements\n",
    "\n",
    "### 3. Peer Score\n",
    "- Calculation of Peer Score"
   ]
  },
  {
   "cell_type": "code",
   "execution_count": 4,
   "id": "d73a00dc",
   "metadata": {},
   "outputs": [],
   "source": [
    "# # # # # # # # # # # # # # # # # # # # # # # # # # # # # # # # # # # # # # # # # # # # # # # # # # # # # # # # # # # # # # # # # # # # # # # # # # # # # # # # # # # # # # # # # # # # # # # # # # # # # # # # # # # # # # # # # # # # # # # # # # # # # # # # # # # # # # # # # # # # # # # # # # # "
   ]
  },
  {
   "cell_type": "markdown",
   "id": "c94725b8-7905-4416-bb20-4ecae787b58a",
   "metadata": {},
   "source": [
    "### 1. Market Timing Tool"
   ]
  },
  {
   "cell_type": "markdown",
   "id": "ccfa253b-81c3-4c34-b0f6-66a593449cee",
   "metadata": {},
   "source": [
    "#### 1a. Data Import"
   ]
  },
  {
   "cell_type": "code",
   "execution_count": 1,
   "id": "c13a1e5f",
   "metadata": {},
   "outputs": [],
   "source": [
    "# 1. Import historical data\n",
    "# 2. Import today's data\n",
    "# 3. Concatenate all into one database"
   ]
  },
  {
   "cell_type": "markdown",
   "id": "d6a9e373",
   "metadata": {},
   "source": [
    "#### 1b. Regime Determination"
   ]
  },
  {
   "cell_type": "code",
   "execution_count": 3,
   "id": "1bfaead7",
   "metadata": {},
   "outputs": [],
   "source": [
    "# 1. Line Chart of historical Invesco holdings by Sector\n",
    "# 2. Top overweight sectors for current regime\n",
    "# 3. Mapping of overweight sectors to corresponding regime\n",
    "# 4. Date of last regime change, what was the previous regime, and biggest sector changes since then"
   ]
  },
  {
   "cell_type": "markdown",
   "id": "c1ad32a7-ab34-4292-b9f8-fc908dc7312c",
   "metadata": {},
   "source": [
    "### 2. EFM Analysis"
   ]
  },
  {
   "cell_type": "markdown",
   "id": "e9db61ee",
   "metadata": {},
   "source": [
    "#### 2a. Biggest overweights"
   ]
  },
  {
   "cell_type": "code",
   "execution_count": 6,
   "id": "788efd0c",
   "metadata": {},
   "outputs": [],
   "source": [
    "# 1. Top sector holdings overall and by fund\n",
    "#    - Position last week and change\n",
    "\n",
    "# 2. Top stock holdings overall and by fund\n",
    "#    - Position last week and change"
   ]
  },
  {
   "cell_type": "markdown",
   "id": "8514ac87",
   "metadata": {},
   "source": [
    "#### 2b. Biggest changes"
   ]
  },
  {
   "cell_type": "code",
   "execution_count": 9,
   "id": "72563a98",
   "metadata": {},
   "outputs": [],
   "source": [
    "# 1. Top sector movers overall and by fund, in the past week and month\n",
    "# 2. Top stock movers overall and by fund, in the past week and month"
   ]
  },
  {
   "cell_type": "markdown",
   "id": "8bcc666e",
   "metadata": {},
   "source": [
    "### 3. Peer Scores"
   ]
  },
  {
   "cell_type": "code",
   "execution_count": 11,
   "id": "b5468b85",
   "metadata": {},
   "outputs": [],
   "source": [
    "# Calculate Peer scores and show top 20 stocks by Peer score"
   ]
  },
  {
   "cell_type": "code",
   "execution_count": 2,
   "id": "1d20c75e",
   "metadata": {},
   "outputs": [
    {
     "ename": "SyntaxError",
     "evalue": "invalid syntax (1373106854.py, line 1)",
     "output_type": "error",
     "traceback": [
      "\u001b[1;36m  Cell \u001b[1;32mIn[2], line 1\u001b[1;36m\u001b[0m\n\u001b[1;33m    jupyter notebook list\u001b[0m\n\u001b[1;37m            ^\u001b[0m\n\u001b[1;31mSyntaxError\u001b[0m\u001b[1;31m:\u001b[0m invalid syntax\n"
     ]
    }
   ],
   "source": [
    "jupyter notebook list"
   ]
  },
  {
   "cell_type": "code",
   "execution_count": null,
   "id": "edeed2a1",
   "metadata": {},
   "outputs": [],
   "source": []
  }
 ],
 "metadata": {
  "kernelspec": {
   "display_name": "Python 3 (ipykernel)",
   "language": "python",
   "name": "python3"
  },
  "language_info": {
   "codemirror_mode": {
    "name": "ipython",
    "version": 3
   },
   "file_extension": ".py",
   "mimetype": "text/x-python",
   "name": "python",
   "nbconvert_exporter": "python",
   "pygments_lexer": "ipython3",
   "version": "3.9.17"
  }
 },
 "nbformat": 4,
 "nbformat_minor": 5
}
